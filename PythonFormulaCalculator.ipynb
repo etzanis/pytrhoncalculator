{
 "cells": [
  {
   "cell_type": "code",
   "execution_count": 16,
   "metadata": {},
   "outputs": [
    {
     "name": "stdout",
     "output_type": "stream",
     "text": [
      "[1, 2, 3, 4]\n"
     ]
    }
   ],
   "source": [
    "class rawData:    \n",
    "    def __init__(self, name, baseline):\n",
    "        self.name = name\n",
    "        self.baseline = baseline\n",
    "        \n",
    "    def getName(self):\n",
    "        return self.name\n",
    "    \n",
    "    def setName(self,name):\n",
    "        self.name = name\n",
    "\n",
    "    def getBaseline(self):\n",
    "        return self.baseline\n",
    "\n",
    "    def setBaseline(self,baseline):\n",
    "        self.baseline = baseline;\n",
    "\n",
    "p1 = rawData('Ebita', [1,2,3,4])\n",
    "print(p1.baseline)\n"
   ]
  },
  {
   "cell_type": "code",
   "execution_count": 85,
   "metadata": {},
   "outputs": [],
   "source": [
    "class FinancialData:\n",
    "    \n",
    "    def __init__(self, name, formula, baseline):\n",
    "        self.name = name\n",
    "        self.baseline = baseline\n",
    "        self.formula = formula\n",
    "        \n",
    "    def setBaseline(self, rawData, names):\n",
    "        baseline={};\n",
    "        \n",
    "        for i in range(len(rawData[next(iter(rawData))])):\n",
    "            formula=self.formula;\n",
    "            for j in names:\n",
    "                 formula=formula.replace(j, str(rawData[j][i]));\n",
    "            baseline[i]=eval(formula)\n",
    "        \n",
    "        self.baseline=baseline.values();\n",
    "\n",
    "    "
   ]
  },
  {
   "cell_type": "code",
   "execution_count": 92,
   "metadata": {},
   "outputs": [
    {
     "name": "stdout",
     "output_type": "stream",
     "text": [
      "dict_values([4, 6, 10])\n"
     ]
    }
   ],
   "source": [
    "names=['x','y']\n",
    "x=[1,2,3]\n",
    "y=[2,2,4]\n",
    "rawData={'x':x,'y':y}\n",
    "\n",
    "formula = FinancialData('New Formula', 'x+(y+x)', {});\n",
    "formula.setBaseline(rawData, names)\n",
    "print(formula.baseline)\n"
   ]
  }
 ],
 "metadata": {
  "kernelspec": {
   "display_name": "Python 3",
   "language": "python",
   "name": "python3"
  },
  "language_info": {
   "codemirror_mode": {
    "name": "ipython",
    "version": 3
   },
   "file_extension": ".py",
   "mimetype": "text/x-python",
   "name": "python",
   "nbconvert_exporter": "python",
   "pygments_lexer": "ipython3",
   "version": "3.7.6"
  }
 },
 "nbformat": 4,
 "nbformat_minor": 4
}
